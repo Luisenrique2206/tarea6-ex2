{
 "cells": [
  {
   "cell_type": "code",
   "execution_count": 5,
   "id": "63d23ce3-9ca0-4adb-8c29-a783847128e6",
   "metadata": {},
   "outputs": [],
   "source": [
    "strategies=['Rock','Paper','Scissors']"
   ]
  },
  {
   "cell_type": "code",
   "execution_count": 6,
   "id": "48eb242e-b827-4e25-808b-54ad215cf180",
   "metadata": {},
   "outputs": [],
   "source": [
    "payoff={('Rock','Paper'):(0,1),\n",
    "        ('Paper','Rock'):(1,0),\n",
    "        ('Rock','Scissors'):(1,0),\n",
    "        ('Scissors','Rock'):(0,1),\n",
    "        ('Paper','Scissors'):(0,1),\n",
    "        ('Scissors','Paper'):(1,0),\n",
    "        ('Rock','Rock'):(0,0),\n",
    "        ('Paper','Paper'):(0,0),\n",
    "        ('Scissors','Scissors'):(0,0)}"
   ]
  },
  {
   "cell_type": "code",
   "execution_count": 7,
   "id": "6cb74ccd-ea2f-408f-abfd-d75620644614",
   "metadata": {},
   "outputs": [],
   "source": [
    "Players=[{'name':'John','score':0,'strategy':None},\n",
    "         {'name':'Mary','score':0,'strategy':None}]"
   ]
  },
  {
   "cell_type": "code",
   "execution_count": 8,
   "id": "5dd8a9a1-6e0c-4b4b-bb24-973232333a13",
   "metadata": {},
   "outputs": [],
   "source": [
    "from random import choice\n",
    "\n",
    "#simplest strategy: choose randomly\n",
    "choice(strategies);"
   ]
  },
  {
   "cell_type": "code",
   "execution_count": 18,
   "id": "9546546c-de8e-484d-b35d-4141b4b46781",
   "metadata": {},
   "outputs": [],
   "source": [
    "Players[0]['strategy']=choice(strategies)\n",
    "Players[1]['strategy']=choice(strategies)"
   ]
  },
  {
   "cell_type": "code",
   "execution_count": 20,
   "id": "8e543741-c42f-4aa4-93b3-c0b994c8c16a",
   "metadata": {},
   "outputs": [
    {
     "data": {
      "text/plain": [
       "('Scissors', 'Rock')"
      ]
     },
     "execution_count": 20,
     "metadata": {},
     "output_type": "execute_result"
    }
   ],
   "source": [
    "Players[0]['strategy'],Players[1]['strategy']"
   ]
  },
  {
   "cell_type": "code",
   "execution_count": 21,
   "id": "ad7b4c3c-0eca-4fcc-8b2e-8cccb36694c9",
   "metadata": {},
   "outputs": [
    {
     "data": {
      "text/plain": [
       "(0, 1)"
      ]
     },
     "execution_count": 21,
     "metadata": {},
     "output_type": "execute_result"
    }
   ],
   "source": [
    "# social result of individual decision\n",
    "result = payoff[Players[0]['strategy'],Players[1]['strategy']]\n",
    "result"
   ]
  },
  {
   "cell_type": "code",
   "execution_count": 22,
   "id": "5bc3e545-9d4d-4936-b55d-7a329c8a0492",
   "metadata": {},
   "outputs": [],
   "source": [
    "# update agents situation\n",
    "Players[0]['score']+=result[0]\n",
    "Players[1]['score']+=result[1]"
   ]
  },
  {
   "cell_type": "code",
   "execution_count": 23,
   "id": "ee322f61-c086-4c5f-a8ef-bd4b4d597954",
   "metadata": {},
   "outputs": [
    {
     "data": {
      "text/plain": [
       "[{'name': 'John', 'score': 0, 'strategy': 'Scissors'},\n",
       " {'name': 'Mary', 'score': 1, 'strategy': 'Rock'}]"
      ]
     },
     "execution_count": 23,
     "metadata": {},
     "output_type": "execute_result"
    }
   ],
   "source": [
    "# current agent situation\n",
    "Players"
   ]
  },
  {
   "cell_type": "code",
   "execution_count": 24,
   "id": "12c516bf-8db9-4f40-b59b-8c32ed33831f",
   "metadata": {},
   "outputs": [
    {
     "data": {
      "text/html": [
       "<div>\n",
       "<style scoped>\n",
       "    .dataframe tbody tr th:only-of-type {\n",
       "        vertical-align: middle;\n",
       "    }\n",
       "\n",
       "    .dataframe tbody tr th {\n",
       "        vertical-align: top;\n",
       "    }\n",
       "\n",
       "    .dataframe thead th {\n",
       "        text-align: right;\n",
       "    }\n",
       "</style>\n",
       "<table border=\"1\" class=\"dataframe\">\n",
       "  <thead>\n",
       "    <tr style=\"text-align: right;\">\n",
       "      <th></th>\n",
       "      <th>name</th>\n",
       "      <th>score</th>\n",
       "      <th>strategy</th>\n",
       "    </tr>\n",
       "  </thead>\n",
       "  <tbody>\n",
       "    <tr>\n",
       "      <th>0</th>\n",
       "      <td>John</td>\n",
       "      <td>0</td>\n",
       "      <td>Scissors</td>\n",
       "    </tr>\n",
       "    <tr>\n",
       "      <th>1</th>\n",
       "      <td>Mary</td>\n",
       "      <td>1</td>\n",
       "      <td>Rock</td>\n",
       "    </tr>\n",
       "  </tbody>\n",
       "</table>\n",
       "</div>"
      ],
      "text/plain": [
       "   name  score  strategy\n",
       "0  John      0  Scissors\n",
       "1  Mary      1      Rock"
      ]
     },
     "execution_count": 24,
     "metadata": {},
     "output_type": "execute_result"
    }
   ],
   "source": [
    "import pandas as pd \n",
    "\n",
    "socialResults=pd.DataFrame((Players[0], Players[1]))\n",
    "socialResults"
   ]
  },
  {
   "cell_type": "code",
   "execution_count": 25,
   "id": "cc9fbd2a-3512-479d-8dfa-3e2e40750a1a",
   "metadata": {},
   "outputs": [
    {
     "data": {
      "text/html": [
       "<div>\n",
       "<style scoped>\n",
       "    .dataframe tbody tr th:only-of-type {\n",
       "        vertical-align: middle;\n",
       "    }\n",
       "\n",
       "    .dataframe tbody tr th {\n",
       "        vertical-align: top;\n",
       "    }\n",
       "\n",
       "    .dataframe thead th {\n",
       "        text-align: right;\n",
       "    }\n",
       "</style>\n",
       "<table border=\"1\" class=\"dataframe\">\n",
       "  <thead>\n",
       "    <tr style=\"text-align: right;\">\n",
       "      <th></th>\n",
       "      <th>name</th>\n",
       "      <th>score</th>\n",
       "      <th>strategy</th>\n",
       "    </tr>\n",
       "  </thead>\n",
       "  <tbody>\n",
       "    <tr>\n",
       "      <th>1</th>\n",
       "      <td>Mary</td>\n",
       "      <td>1</td>\n",
       "      <td>Rock</td>\n",
       "    </tr>\n",
       "  </tbody>\n",
       "</table>\n",
       "</div>"
      ],
      "text/plain": [
       "   name  score strategy\n",
       "1  Mary      1     Rock"
      ]
     },
     "execution_count": 25,
     "metadata": {},
     "output_type": "execute_result"
    }
   ],
   "source": [
    "winnerScore=socialResults.score.max()\n",
    "\n",
    "#social outcome\n",
    "socialResults[socialResults.score==winnerScore]"
   ]
  },
  {
   "cell_type": "code",
   "execution_count": 47,
   "id": "0a7e572f-4108-4359-9eca-cedd25e66253",
   "metadata": {},
   "outputs": [],
   "source": [
    "# names of players\n",
    "names=['Jim','Jane','Peter','Zoe','Julio','Jani','Jose','Sua','Luis','Enrique']"
   ]
  },
  {
   "cell_type": "code",
   "execution_count": 48,
   "id": "e81fa944-5448-4bf1-988c-5f4b67b20e89",
   "metadata": {},
   "outputs": [],
   "source": [
    "# setting up players\n",
    "society=[{'name':n,'score':0,'strategy':None} for n in names]"
   ]
  },
  {
   "cell_type": "code",
   "execution_count": 49,
   "id": "31b3ea97-1771-458b-9f11-fec9911a7724",
   "metadata": {},
   "outputs": [
    {
     "data": {
      "text/plain": [
       "[{'name': 'Jim', 'score': 0, 'strategy': None},\n",
       " {'name': 'Jane', 'score': 0, 'strategy': None},\n",
       " {'name': 'Peter', 'score': 0, 'strategy': None},\n",
       " {'name': 'Zoe', 'score': 0, 'strategy': None},\n",
       " {'name': 'Julio', 'score': 0, 'strategy': None},\n",
       " {'name': 'Jani', 'score': 0, 'strategy': None},\n",
       " {'name': 'Jose', 'score': 0, 'strategy': None},\n",
       " {'name': 'Sua', 'score': 0, 'strategy': None},\n",
       " {'name': 'Luis', 'score': 0, 'strategy': None},\n",
       " {'name': 'Enrique', 'score': 0, 'strategy': None}]"
      ]
     },
     "execution_count": 49,
     "metadata": {},
     "output_type": "execute_result"
    }
   ],
   "source": [
    "# each player a dict:\n",
    "society"
   ]
  },
  {
   "cell_type": "code",
   "execution_count": 50,
   "id": "90d519f6-6746-480f-ba54-3f628ea66b25",
   "metadata": {},
   "outputs": [
    {
     "name": "stdout",
     "output_type": "stream",
     "text": [
      "({'name': 'Jim', 'score': 0, 'strategy': None}, {'name': 'Jane', 'score': 0, 'strategy': None})\n",
      "({'name': 'Jim', 'score': 0, 'strategy': None}, {'name': 'Peter', 'score': 0, 'strategy': None})\n",
      "({'name': 'Jim', 'score': 0, 'strategy': None}, {'name': 'Zoe', 'score': 0, 'strategy': None})\n",
      "({'name': 'Jim', 'score': 0, 'strategy': None}, {'name': 'Julio', 'score': 0, 'strategy': None})\n",
      "({'name': 'Jim', 'score': 0, 'strategy': None}, {'name': 'Jani', 'score': 0, 'strategy': None})\n",
      "({'name': 'Jim', 'score': 0, 'strategy': None}, {'name': 'Jose', 'score': 0, 'strategy': None})\n",
      "({'name': 'Jim', 'score': 0, 'strategy': None}, {'name': 'Sua', 'score': 0, 'strategy': None})\n",
      "({'name': 'Jim', 'score': 0, 'strategy': None}, {'name': 'Luis', 'score': 0, 'strategy': None})\n",
      "({'name': 'Jim', 'score': 0, 'strategy': None}, {'name': 'Enrique', 'score': 0, 'strategy': None})\n",
      "({'name': 'Jane', 'score': 0, 'strategy': None}, {'name': 'Peter', 'score': 0, 'strategy': None})\n",
      "({'name': 'Jane', 'score': 0, 'strategy': None}, {'name': 'Zoe', 'score': 0, 'strategy': None})\n",
      "({'name': 'Jane', 'score': 0, 'strategy': None}, {'name': 'Julio', 'score': 0, 'strategy': None})\n",
      "({'name': 'Jane', 'score': 0, 'strategy': None}, {'name': 'Jani', 'score': 0, 'strategy': None})\n",
      "({'name': 'Jane', 'score': 0, 'strategy': None}, {'name': 'Jose', 'score': 0, 'strategy': None})\n",
      "({'name': 'Jane', 'score': 0, 'strategy': None}, {'name': 'Sua', 'score': 0, 'strategy': None})\n",
      "({'name': 'Jane', 'score': 0, 'strategy': None}, {'name': 'Luis', 'score': 0, 'strategy': None})\n",
      "({'name': 'Jane', 'score': 0, 'strategy': None}, {'name': 'Enrique', 'score': 0, 'strategy': None})\n",
      "({'name': 'Peter', 'score': 0, 'strategy': None}, {'name': 'Zoe', 'score': 0, 'strategy': None})\n",
      "({'name': 'Peter', 'score': 0, 'strategy': None}, {'name': 'Julio', 'score': 0, 'strategy': None})\n",
      "({'name': 'Peter', 'score': 0, 'strategy': None}, {'name': 'Jani', 'score': 0, 'strategy': None})\n",
      "({'name': 'Peter', 'score': 0, 'strategy': None}, {'name': 'Jose', 'score': 0, 'strategy': None})\n",
      "({'name': 'Peter', 'score': 0, 'strategy': None}, {'name': 'Sua', 'score': 0, 'strategy': None})\n",
      "({'name': 'Peter', 'score': 0, 'strategy': None}, {'name': 'Luis', 'score': 0, 'strategy': None})\n",
      "({'name': 'Peter', 'score': 0, 'strategy': None}, {'name': 'Enrique', 'score': 0, 'strategy': None})\n",
      "({'name': 'Zoe', 'score': 0, 'strategy': None}, {'name': 'Julio', 'score': 0, 'strategy': None})\n",
      "({'name': 'Zoe', 'score': 0, 'strategy': None}, {'name': 'Jani', 'score': 0, 'strategy': None})\n",
      "({'name': 'Zoe', 'score': 0, 'strategy': None}, {'name': 'Jose', 'score': 0, 'strategy': None})\n",
      "({'name': 'Zoe', 'score': 0, 'strategy': None}, {'name': 'Sua', 'score': 0, 'strategy': None})\n",
      "({'name': 'Zoe', 'score': 0, 'strategy': None}, {'name': 'Luis', 'score': 0, 'strategy': None})\n",
      "({'name': 'Zoe', 'score': 0, 'strategy': None}, {'name': 'Enrique', 'score': 0, 'strategy': None})\n",
      "({'name': 'Julio', 'score': 0, 'strategy': None}, {'name': 'Jani', 'score': 0, 'strategy': None})\n",
      "({'name': 'Julio', 'score': 0, 'strategy': None}, {'name': 'Jose', 'score': 0, 'strategy': None})\n",
      "({'name': 'Julio', 'score': 0, 'strategy': None}, {'name': 'Sua', 'score': 0, 'strategy': None})\n",
      "({'name': 'Julio', 'score': 0, 'strategy': None}, {'name': 'Luis', 'score': 0, 'strategy': None})\n",
      "({'name': 'Julio', 'score': 0, 'strategy': None}, {'name': 'Enrique', 'score': 0, 'strategy': None})\n",
      "({'name': 'Jani', 'score': 0, 'strategy': None}, {'name': 'Jose', 'score': 0, 'strategy': None})\n",
      "({'name': 'Jani', 'score': 0, 'strategy': None}, {'name': 'Sua', 'score': 0, 'strategy': None})\n",
      "({'name': 'Jani', 'score': 0, 'strategy': None}, {'name': 'Luis', 'score': 0, 'strategy': None})\n",
      "({'name': 'Jani', 'score': 0, 'strategy': None}, {'name': 'Enrique', 'score': 0, 'strategy': None})\n",
      "({'name': 'Jose', 'score': 0, 'strategy': None}, {'name': 'Sua', 'score': 0, 'strategy': None})\n",
      "({'name': 'Jose', 'score': 0, 'strategy': None}, {'name': 'Luis', 'score': 0, 'strategy': None})\n",
      "({'name': 'Jose', 'score': 0, 'strategy': None}, {'name': 'Enrique', 'score': 0, 'strategy': None})\n",
      "({'name': 'Sua', 'score': 0, 'strategy': None}, {'name': 'Luis', 'score': 0, 'strategy': None})\n",
      "({'name': 'Sua', 'score': 0, 'strategy': None}, {'name': 'Enrique', 'score': 0, 'strategy': None})\n",
      "({'name': 'Luis', 'score': 0, 'strategy': None}, {'name': 'Enrique', 'score': 0, 'strategy': None})\n"
     ]
    }
   ],
   "source": [
    "import itertools \n",
    "\n",
    "# pair is a tuple of dicts\n",
    "for pair in itertools.combinations(society,2):\n",
    "    print(pair)"
   ]
  },
  {
   "cell_type": "code",
   "execution_count": 51,
   "id": "94380799-4633-4fe0-8215-c479ac618cd5",
   "metadata": {},
   "outputs": [
    {
     "name": "stdout",
     "output_type": "stream",
     "text": [
      "{'name': 'Jim', 'score': 0, 'strategy': None} {'name': 'Jane', 'score': 0, 'strategy': None}\n",
      "{'name': 'Jim', 'score': 0, 'strategy': None} {'name': 'Peter', 'score': 0, 'strategy': None}\n",
      "{'name': 'Jim', 'score': 0, 'strategy': None} {'name': 'Zoe', 'score': 0, 'strategy': None}\n",
      "{'name': 'Jim', 'score': 0, 'strategy': None} {'name': 'Julio', 'score': 0, 'strategy': None}\n",
      "{'name': 'Jim', 'score': 0, 'strategy': None} {'name': 'Jani', 'score': 0, 'strategy': None}\n",
      "{'name': 'Jim', 'score': 0, 'strategy': None} {'name': 'Jose', 'score': 0, 'strategy': None}\n",
      "{'name': 'Jim', 'score': 0, 'strategy': None} {'name': 'Sua', 'score': 0, 'strategy': None}\n",
      "{'name': 'Jim', 'score': 0, 'strategy': None} {'name': 'Luis', 'score': 0, 'strategy': None}\n",
      "{'name': 'Jim', 'score': 0, 'strategy': None} {'name': 'Enrique', 'score': 0, 'strategy': None}\n",
      "{'name': 'Jane', 'score': 0, 'strategy': None} {'name': 'Peter', 'score': 0, 'strategy': None}\n",
      "{'name': 'Jane', 'score': 0, 'strategy': None} {'name': 'Zoe', 'score': 0, 'strategy': None}\n",
      "{'name': 'Jane', 'score': 0, 'strategy': None} {'name': 'Julio', 'score': 0, 'strategy': None}\n",
      "{'name': 'Jane', 'score': 0, 'strategy': None} {'name': 'Jani', 'score': 0, 'strategy': None}\n",
      "{'name': 'Jane', 'score': 0, 'strategy': None} {'name': 'Jose', 'score': 0, 'strategy': None}\n",
      "{'name': 'Jane', 'score': 0, 'strategy': None} {'name': 'Sua', 'score': 0, 'strategy': None}\n",
      "{'name': 'Jane', 'score': 0, 'strategy': None} {'name': 'Luis', 'score': 0, 'strategy': None}\n",
      "{'name': 'Jane', 'score': 0, 'strategy': None} {'name': 'Enrique', 'score': 0, 'strategy': None}\n",
      "{'name': 'Peter', 'score': 0, 'strategy': None} {'name': 'Zoe', 'score': 0, 'strategy': None}\n",
      "{'name': 'Peter', 'score': 0, 'strategy': None} {'name': 'Julio', 'score': 0, 'strategy': None}\n",
      "{'name': 'Peter', 'score': 0, 'strategy': None} {'name': 'Jani', 'score': 0, 'strategy': None}\n",
      "{'name': 'Peter', 'score': 0, 'strategy': None} {'name': 'Jose', 'score': 0, 'strategy': None}\n",
      "{'name': 'Peter', 'score': 0, 'strategy': None} {'name': 'Sua', 'score': 0, 'strategy': None}\n",
      "{'name': 'Peter', 'score': 0, 'strategy': None} {'name': 'Luis', 'score': 0, 'strategy': None}\n",
      "{'name': 'Peter', 'score': 0, 'strategy': None} {'name': 'Enrique', 'score': 0, 'strategy': None}\n",
      "{'name': 'Zoe', 'score': 0, 'strategy': None} {'name': 'Julio', 'score': 0, 'strategy': None}\n",
      "{'name': 'Zoe', 'score': 0, 'strategy': None} {'name': 'Jani', 'score': 0, 'strategy': None}\n",
      "{'name': 'Zoe', 'score': 0, 'strategy': None} {'name': 'Jose', 'score': 0, 'strategy': None}\n",
      "{'name': 'Zoe', 'score': 0, 'strategy': None} {'name': 'Sua', 'score': 0, 'strategy': None}\n",
      "{'name': 'Zoe', 'score': 0, 'strategy': None} {'name': 'Luis', 'score': 0, 'strategy': None}\n",
      "{'name': 'Zoe', 'score': 0, 'strategy': None} {'name': 'Enrique', 'score': 0, 'strategy': None}\n",
      "{'name': 'Julio', 'score': 0, 'strategy': None} {'name': 'Jani', 'score': 0, 'strategy': None}\n",
      "{'name': 'Julio', 'score': 0, 'strategy': None} {'name': 'Jose', 'score': 0, 'strategy': None}\n",
      "{'name': 'Julio', 'score': 0, 'strategy': None} {'name': 'Sua', 'score': 0, 'strategy': None}\n",
      "{'name': 'Julio', 'score': 0, 'strategy': None} {'name': 'Luis', 'score': 0, 'strategy': None}\n",
      "{'name': 'Julio', 'score': 0, 'strategy': None} {'name': 'Enrique', 'score': 0, 'strategy': None}\n",
      "{'name': 'Jani', 'score': 0, 'strategy': None} {'name': 'Jose', 'score': 0, 'strategy': None}\n",
      "{'name': 'Jani', 'score': 0, 'strategy': None} {'name': 'Sua', 'score': 0, 'strategy': None}\n",
      "{'name': 'Jani', 'score': 0, 'strategy': None} {'name': 'Luis', 'score': 0, 'strategy': None}\n",
      "{'name': 'Jani', 'score': 0, 'strategy': None} {'name': 'Enrique', 'score': 0, 'strategy': None}\n",
      "{'name': 'Jose', 'score': 0, 'strategy': None} {'name': 'Sua', 'score': 0, 'strategy': None}\n",
      "{'name': 'Jose', 'score': 0, 'strategy': None} {'name': 'Luis', 'score': 0, 'strategy': None}\n",
      "{'name': 'Jose', 'score': 0, 'strategy': None} {'name': 'Enrique', 'score': 0, 'strategy': None}\n",
      "{'name': 'Sua', 'score': 0, 'strategy': None} {'name': 'Luis', 'score': 0, 'strategy': None}\n",
      "{'name': 'Sua', 'score': 0, 'strategy': None} {'name': 'Enrique', 'score': 0, 'strategy': None}\n",
      "{'name': 'Luis', 'score': 0, 'strategy': None} {'name': 'Enrique', 'score': 0, 'strategy': None}\n"
     ]
    }
   ],
   "source": [
    "import itertools \n",
    "\n",
    "# each dict\n",
    "for player1,player2 in itertools.combinations(society,2):\n",
    "    print(player1,player2)"
   ]
  },
  {
   "cell_type": "code",
   "execution_count": 52,
   "id": "6f78fb69-dd75-4967-8ae8-f881092d216e",
   "metadata": {},
   "outputs": [],
   "source": [
    "# resetting society\n",
    "society=[{'name':n,'score':0,'strategy':None} for n in names]\n",
    "\n",
    "# several rounds\n",
    "for aRound in range(100):\n",
    "    \n",
    "    # en each round:\n",
    "    for player1,player2 in itertools.combinations(society,2):\n",
    "        # each chooses strategy\n",
    "        player1['strategy']=choice(strategies)\n",
    "        \n",
    "        player2['strategy']=choice(strategies)\n",
    "        \n",
    "        # result from strategy chosen\n",
    "        result=payoff[player1['strategy'],player2['strategy']]\n",
    "            \n",
    "        # update scores\n",
    "        player1['score']+=result[0]\n",
    "        player2['score']+=result[1]"
   ]
  },
  {
   "cell_type": "code",
   "execution_count": 53,
   "id": "0cfd7062-0cd8-4514-8436-42c854d8688b",
   "metadata": {},
   "outputs": [
    {
     "data": {
      "text/plain": [
       "[{'name': 'Jim', 'score': 303, 'strategy': 'Paper'},\n",
       " {'name': 'Jane', 'score': 315, 'strategy': 'Rock'},\n",
       " {'name': 'Peter', 'score': 312, 'strategy': 'Rock'},\n",
       " {'name': 'Zoe', 'score': 304, 'strategy': 'Rock'},\n",
       " {'name': 'Julio', 'score': 301, 'strategy': 'Rock'},\n",
       " {'name': 'Jani', 'score': 292, 'strategy': 'Scissors'},\n",
       " {'name': 'Jose', 'score': 295, 'strategy': 'Paper'},\n",
       " {'name': 'Sua', 'score': 290, 'strategy': 'Paper'},\n",
       " {'name': 'Luis', 'score': 297, 'strategy': 'Rock'},\n",
       " {'name': 'Enrique', 'score': 296, 'strategy': 'Rock'}]"
      ]
     },
     "execution_count": 53,
     "metadata": {},
     "output_type": "execute_result"
    }
   ],
   "source": [
    "# final situation\n",
    "society"
   ]
  },
  {
   "cell_type": "code",
   "execution_count": 54,
   "id": "0639dc1a-521e-4335-b47f-637c5dc8c058",
   "metadata": {},
   "outputs": [
    {
     "data": {
      "text/html": [
       "<div>\n",
       "<style scoped>\n",
       "    .dataframe tbody tr th:only-of-type {\n",
       "        vertical-align: middle;\n",
       "    }\n",
       "\n",
       "    .dataframe tbody tr th {\n",
       "        vertical-align: top;\n",
       "    }\n",
       "\n",
       "    .dataframe thead th {\n",
       "        text-align: right;\n",
       "    }\n",
       "</style>\n",
       "<table border=\"1\" class=\"dataframe\">\n",
       "  <thead>\n",
       "    <tr style=\"text-align: right;\">\n",
       "      <th></th>\n",
       "      <th>name</th>\n",
       "      <th>score</th>\n",
       "      <th>strategy</th>\n",
       "    </tr>\n",
       "  </thead>\n",
       "  <tbody>\n",
       "    <tr>\n",
       "      <th>0</th>\n",
       "      <td>Jim</td>\n",
       "      <td>303</td>\n",
       "      <td>Paper</td>\n",
       "    </tr>\n",
       "    <tr>\n",
       "      <th>1</th>\n",
       "      <td>Jane</td>\n",
       "      <td>315</td>\n",
       "      <td>Rock</td>\n",
       "    </tr>\n",
       "    <tr>\n",
       "      <th>2</th>\n",
       "      <td>Peter</td>\n",
       "      <td>312</td>\n",
       "      <td>Rock</td>\n",
       "    </tr>\n",
       "    <tr>\n",
       "      <th>3</th>\n",
       "      <td>Zoe</td>\n",
       "      <td>304</td>\n",
       "      <td>Rock</td>\n",
       "    </tr>\n",
       "    <tr>\n",
       "      <th>4</th>\n",
       "      <td>Julio</td>\n",
       "      <td>301</td>\n",
       "      <td>Rock</td>\n",
       "    </tr>\n",
       "    <tr>\n",
       "      <th>5</th>\n",
       "      <td>Jani</td>\n",
       "      <td>292</td>\n",
       "      <td>Scissors</td>\n",
       "    </tr>\n",
       "    <tr>\n",
       "      <th>6</th>\n",
       "      <td>Jose</td>\n",
       "      <td>295</td>\n",
       "      <td>Paper</td>\n",
       "    </tr>\n",
       "    <tr>\n",
       "      <th>7</th>\n",
       "      <td>Sua</td>\n",
       "      <td>290</td>\n",
       "      <td>Paper</td>\n",
       "    </tr>\n",
       "    <tr>\n",
       "      <th>8</th>\n",
       "      <td>Luis</td>\n",
       "      <td>297</td>\n",
       "      <td>Rock</td>\n",
       "    </tr>\n",
       "    <tr>\n",
       "      <th>9</th>\n",
       "      <td>Enrique</td>\n",
       "      <td>296</td>\n",
       "      <td>Rock</td>\n",
       "    </tr>\n",
       "  </tbody>\n",
       "</table>\n",
       "</div>"
      ],
      "text/plain": [
       "      name  score  strategy\n",
       "0      Jim    303     Paper\n",
       "1     Jane    315      Rock\n",
       "2    Peter    312      Rock\n",
       "3      Zoe    304      Rock\n",
       "4    Julio    301      Rock\n",
       "5     Jani    292  Scissors\n",
       "6     Jose    295     Paper\n",
       "7      Sua    290     Paper\n",
       "8     Luis    297      Rock\n",
       "9  Enrique    296      Rock"
      ]
     },
     "execution_count": 54,
     "metadata": {},
     "output_type": "execute_result"
    }
   ],
   "source": [
    "# as a data frame\n",
    "socialResults=pd.DataFrame(society)\n",
    "socialResults"
   ]
  },
  {
   "cell_type": "code",
   "execution_count": 55,
   "id": "a2d807d0-8b9b-4e97-b795-9dc157682122",
   "metadata": {},
   "outputs": [
    {
     "data": {
      "text/html": [
       "<div>\n",
       "<style scoped>\n",
       "    .dataframe tbody tr th:only-of-type {\n",
       "        vertical-align: middle;\n",
       "    }\n",
       "\n",
       "    .dataframe tbody tr th {\n",
       "        vertical-align: top;\n",
       "    }\n",
       "\n",
       "    .dataframe thead th {\n",
       "        text-align: right;\n",
       "    }\n",
       "</style>\n",
       "<table border=\"1\" class=\"dataframe\">\n",
       "  <thead>\n",
       "    <tr style=\"text-align: right;\">\n",
       "      <th></th>\n",
       "      <th>name</th>\n",
       "      <th>score</th>\n",
       "      <th>strategy</th>\n",
       "    </tr>\n",
       "  </thead>\n",
       "  <tbody>\n",
       "    <tr>\n",
       "      <th>1</th>\n",
       "      <td>Jane</td>\n",
       "      <td>315</td>\n",
       "      <td>Rock</td>\n",
       "    </tr>\n",
       "  </tbody>\n",
       "</table>\n",
       "</div>"
      ],
      "text/plain": [
       "   name  score strategy\n",
       "1  Jane    315     Rock"
      ]
     },
     "execution_count": 55,
     "metadata": {},
     "output_type": "execute_result"
    }
   ],
   "source": [
    "winnerScore=socialResults.score.max()\n",
    "\n",
    "#social outcome\n",
    "socialResults[socialResults.score==winnerScore]"
   ]
  },
  {
   "cell_type": "code",
   "execution_count": 57,
   "id": "7d284217-8907-400a-b4da-1b7edc3c07d0",
   "metadata": {},
   "outputs": [
    {
     "name": "stdout",
     "output_type": "stream",
     "text": [
      "Luis chose Rock - Enrique chose Rock\n",
      "TIE!\n"
     ]
    }
   ],
   "source": [
    "print(player1['name'] + \" chose \" + player1['strategy'] +\" - \"+player2['name'] + \" chose \" + player2['strategy'] )\n",
    "\n",
    "\n",
    "\n",
    "\n",
    "if payoff[player1['strategy'],player2['strategy']] == (1,0):\n",
    "    print(player1['name'] + \" won\")\n",
    "if payoff[player1['strategy'],player2['strategy']] == (0,1):\n",
    "    print(player2['name'] + \" won\")\n",
    "else:\n",
    "    print(\"TIE!\")"
   ]
  },
  {
   "cell_type": "code",
   "execution_count": null,
   "id": "34c731e1-9ba2-4f0f-b664-a703665301f1",
   "metadata": {},
   "outputs": [],
   "source": []
  }
 ],
 "metadata": {
  "kernelspec": {
   "display_name": "Python 3 (ipykernel)",
   "language": "python",
   "name": "python3"
  },
  "language_info": {
   "codemirror_mode": {
    "name": "ipython",
    "version": 3
   },
   "file_extension": ".py",
   "mimetype": "text/x-python",
   "name": "python",
   "nbconvert_exporter": "python",
   "pygments_lexer": "ipython3",
   "version": "3.11.7"
  }
 },
 "nbformat": 4,
 "nbformat_minor": 5
}
